{
 "cells": [
  {
   "attachments": {},
   "cell_type": "markdown",
   "metadata": {},
   "source": [
    "## Importing Libraries"
   ]
  },
  {
   "cell_type": "code",
   "execution_count": 1,
   "metadata": {},
   "outputs": [],
   "source": [
    "import pandas as pd \n",
    "import numpy as np"
   ]
  },
  {
   "attachments": {},
   "cell_type": "markdown",
   "metadata": {},
   "source": [
    "## Levenshtein Distance function"
   ]
  },
  {
   "cell_type": "code",
   "execution_count": 2,
   "metadata": {},
   "outputs": [],
   "source": [
    "def distance(s1,s2):\n",
    "    if len(s1)<len(s2):\n",
    "        return distance(s2,s1)\n",
    "    \n",
    "    if len(s2)==0:\n",
    "        return len(s1)\n",
    "    \n",
    "    previousRow=range(len(s2)+1)\n",
    "    \n",
    "    for i,c1 in enumerate(s1):\n",
    "        currentRow=[i+1]\n",
    "        for j,c2 in enumerate(s2):\n",
    "            \n",
    "            insert=previousRow[j+1]+1\n",
    "            delete=currentRow[j]+1\n",
    "            subs=previousRow[j]+2*(c1!=c2)\n",
    "            \n",
    "            currentRow.append(min(insert,delete,subs))\n",
    "        previousRow=currentRow\n",
    "    return previousRow[-1]\n",
    "    "
   ]
  },
  {
   "cell_type": "code",
   "execution_count": 4,
   "metadata": {},
   "outputs": [],
   "source": [
    "stringOne='cat'\n",
    "stringTwo='bat'\n",
    "distance(stringOne,stringTwo)"
   ]
  }
 ],
 "metadata": {
  "kernelspec": {
   "display_name": ".nlp",
   "language": "python",
   "name": "python3"
  },
  "language_info": {
   "codemirror_mode": {
    "name": "ipython",
    "version": 3
   },
   "file_extension": ".py",
   "mimetype": "text/x-python",
   "name": "python",
   "nbconvert_exporter": "python",
   "pygments_lexer": "ipython3",
   "version": "3.10.0"
  },
  "orig_nbformat": 4,
  "vscode": {
   "interpreter": {
    "hash": "5f226b27f9ac702f6fb941de85f28f7310b3dac1cdba95ef73ea3c390144528f"
   }
  }
 },
 "nbformat": 4,
 "nbformat_minor": 2
}
