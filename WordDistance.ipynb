{
 "cells": [
  {
   "attachments": {},
   "cell_type": "markdown",
   "metadata": {},
   "source": [
    "## Importing Libraries"
   ]
  },
  {
   "cell_type": "code",
   "execution_count": 78,
   "metadata": {},
   "outputs": [],
   "source": [
    "import pandas as pd \n",
    "import numpy as np"
   ]
  },
  {
   "attachments": {},
   "cell_type": "markdown",
   "metadata": {},
   "source": [
    "## Alternate Levenshtein Distance function"
   ]
  },
  {
   "cell_type": "code",
   "execution_count": 79,
   "metadata": {},
   "outputs": [],
   "source": [
    "def distance(s1,s2):\n",
    "    D=np.array([])\n",
    "    if len(s1)<len(s2):\n",
    "        return distance(s2,s1)\n",
    "    \n",
    "    if len(s2)==0:\n",
    "        D=np.row_stack((len(s1),D))\n",
    "        return len(s1)\n",
    "    \n",
    "    previousRow=range(len(s2)+1)\n",
    "    D=np.append([i for i in previousRow],D)\n",
    "    \n",
    "    for i,c1 in enumerate(s1):\n",
    "        currentRow=[i+1]\n",
    "        for j,c2 in enumerate(s2):\n",
    "            \n",
    "            insert=previousRow[j+1]+1\n",
    "            delete=currentRow[j]+1\n",
    "            subs=previousRow[j]+2*(c1!=c2)\n",
    "            \n",
    "            currentRow.append(min(insert,delete,subs))\n",
    "        D=np.row_stack((currentRow,D))\n",
    "        previousRow=currentRow\n",
    "    D=pd.DataFrame(D,index=reversed(['#']+[*s2]),columns=['#']+[*s1])\n",
    "    return D\n",
    "    "
   ]
  },
  {
   "cell_type": "code",
   "execution_count": 80,
   "metadata": {},
   "outputs": [
    {
     "data": {
      "text/html": [
       "<div>\n",
       "<style scoped>\n",
       "    .dataframe tbody tr th:only-of-type {\n",
       "        vertical-align: middle;\n",
       "    }\n",
       "\n",
       "    .dataframe tbody tr th {\n",
       "        vertical-align: top;\n",
       "    }\n",
       "\n",
       "    .dataframe thead th {\n",
       "        text-align: right;\n",
       "    }\n",
       "</style>\n",
       "<table border=\"1\" class=\"dataframe\">\n",
       "  <thead>\n",
       "    <tr style=\"text-align: right;\">\n",
       "      <th></th>\n",
       "      <th>#</th>\n",
       "      <th>c</th>\n",
       "      <th>a</th>\n",
       "      <th>t</th>\n",
       "    </tr>\n",
       "  </thead>\n",
       "  <tbody>\n",
       "    <tr>\n",
       "      <th>t</th>\n",
       "      <td>3.0</td>\n",
       "      <td>4.0</td>\n",
       "      <td>3.0</td>\n",
       "      <td>2.0</td>\n",
       "    </tr>\n",
       "    <tr>\n",
       "      <th>a</th>\n",
       "      <td>2.0</td>\n",
       "      <td>3.0</td>\n",
       "      <td>2.0</td>\n",
       "      <td>3.0</td>\n",
       "    </tr>\n",
       "    <tr>\n",
       "      <th>b</th>\n",
       "      <td>1.0</td>\n",
       "      <td>2.0</td>\n",
       "      <td>3.0</td>\n",
       "      <td>4.0</td>\n",
       "    </tr>\n",
       "    <tr>\n",
       "      <th>#</th>\n",
       "      <td>0.0</td>\n",
       "      <td>1.0</td>\n",
       "      <td>2.0</td>\n",
       "      <td>3.0</td>\n",
       "    </tr>\n",
       "  </tbody>\n",
       "</table>\n",
       "</div>"
      ],
      "text/plain": [
       "     #    c    a    t\n",
       "t  3.0  4.0  3.0  2.0\n",
       "a  2.0  3.0  2.0  3.0\n",
       "b  1.0  2.0  3.0  4.0\n",
       "#  0.0  1.0  2.0  3.0"
      ]
     },
     "execution_count": 80,
     "metadata": {},
     "output_type": "execute_result"
    }
   ],
   "source": [
    "stringOne='cat'\n",
    "stringTwo='bat'\n",
    "distance(stringOne,stringTwo)"
   ]
  }
 ],
 "metadata": {
  "kernelspec": {
   "display_name": ".nlp",
   "language": "python",
   "name": "python3"
  },
  "language_info": {
   "codemirror_mode": {
    "name": "ipython",
    "version": 3
   },
   "file_extension": ".py",
   "mimetype": "text/x-python",
   "name": "python",
   "nbconvert_exporter": "python",
   "pygments_lexer": "ipython3",
   "version": "3.10.0"
  },
  "orig_nbformat": 4,
  "vscode": {
   "interpreter": {
    "hash": "5f226b27f9ac702f6fb941de85f28f7310b3dac1cdba95ef73ea3c390144528f"
   }
  }
 },
 "nbformat": 4,
 "nbformat_minor": 2
}
